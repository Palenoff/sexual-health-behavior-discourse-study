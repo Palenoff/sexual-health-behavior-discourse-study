{
 "cells": [
  {
   "cell_type": "code",
   "execution_count": 43,
   "metadata": {},
   "outputs": [
    {
     "name": "stderr",
     "output_type": "stream",
     "text": [
      "C:\\Users\\kpale\\AppData\\Local\\Packages\\PythonSoftwareFoundation.Python.3.10_qbz5n2kfra8p0\\LocalCache\\local-packages\\Python310\\site-packages\\igraph\\io\\files.py:295: RuntimeWarning: Could not add vertex ids, there is already an 'id' vertex attribute. at src/io/graphml.c:485\n",
      "  return reader(f, *args, **kwds)\n"
     ]
    }
   ],
   "source": [
    "import igraph\n",
    "graph = igraph.load('C:\\\\SHB\\\\Kindertelefoon\\\\De_Kindertelefoon_users.graphml')\n",
    "#graph = igraph.load('C:\\\\SHB\\\\FOK!\\\\FOK!_users.graphml')\n",
    "#graph.vs[0].delete()\n",
    "graph.vs[4].delete()"
   ]
  },
  {
   "cell_type": "code",
   "execution_count": 34,
   "metadata": {},
   "outputs": [],
   "source": [
    "#import matplotlib.pyplot as plt\n",
    "in_d = graph.degree_distribution(mode='in')\n",
    "out_d = graph.degree_distribution(mode='out')\n",
    "#plt.hist(graph.degree(), 20)\n",
    "#plt.show()"
   ]
  },
  {
   "cell_type": "code",
   "execution_count": 35,
   "metadata": {},
   "outputs": [
    {
     "name": "stdout",
     "output_type": "stream",
     "text": [
      "N = 6121, mean +- sd: 0.9061 +- 3.3801\n",
      "Each * represents 71 items\n",
      "[ 0,  1): ************************************************************* (4361)\n",
      "[ 1,  2): ************ (921)\n",
      "[ 2,  3): **** (300)\n",
      "[ 3,  4): ** (166)\n",
      "[ 4,  5): * (90)\n",
      "[ 5,  6):  (57)\n",
      "[ 6,  7):  (43)\n",
      "[ 7,  8):  (39)\n",
      "[ 8,  9):  (21)\n",
      "[ 9, 10):  (18)\n",
      "[10, 11):  (23)\n",
      "[11, 12):  (9)\n",
      "[12, 13):  (11)\n",
      "[13, 14):  (7)\n",
      "[14, 15):  (7)\n",
      "[15, 16):  (5)\n",
      "[16, 17):  (6)\n",
      "[17, 18):  (0)\n",
      "[18, 19):  (7)\n",
      "[19, 20):  (4)\n",
      "[20, 21):  (3)\n",
      "[21, 22):  (2)\n",
      "[22, 23):  (1)\n",
      "[23, 24):  (2)\n",
      "[24, 25):  (0)\n",
      "[25, 26):  (0)\n",
      "[26, 27):  (0)\n",
      "[27, 28):  (1)\n",
      "[28, 29):  (0)\n",
      "[29, 30):  (1)\n",
      "[30, 31):  (0)\n",
      "[31, 32):  (4)\n",
      "[32, 33):  (0)\n",
      "[33, 34):  (0)\n",
      "[34, 35):  (0)\n",
      "[35, 36):  (1)\n",
      "[36, 37):  (0)\n",
      "[37, 38):  (2)\n",
      "[38, 39):  (0)\n",
      "[39, 40):  (0)\n",
      "[40, 41):  (0)\n",
      "[41, 42):  (0)\n",
      "[42, 43):  (2)\n",
      "[43, 44):  (0)\n",
      "[44, 45):  (0)\n",
      "[45, 46):  (0)\n",
      "[46, 47):  (1)\n",
      "[47, 48):  (1)\n",
      "[48, 49):  (0)\n",
      "[49, 50):  (1)\n",
      "[50, 51):  (0)\n",
      "[51, 52):  (0)\n",
      "[52, 53):  (0)\n",
      "[53, 54):  (0)\n",
      "[54, 55):  (0)\n",
      "[55, 56):  (0)\n",
      "[56, 57):  (0)\n",
      "[57, 58):  (0)\n",
      "[58, 59):  (0)\n",
      "[59, 60):  (0)\n",
      "[60, 61):  (0)\n",
      "[61, 62):  (1)\n",
      "[62, 63):  (0)\n",
      "[63, 64):  (0)\n",
      "[64, 65):  (0)\n",
      "[65, 66):  (0)\n",
      "[66, 67):  (0)\n",
      "[67, 68):  (0)\n",
      "[68, 69):  (0)\n",
      "[69, 70):  (0)\n",
      "[70, 71):  (0)\n",
      "[71, 72):  (0)\n",
      "[72, 73):  (0)\n",
      "[73, 74):  (0)\n",
      "[74, 75):  (0)\n",
      "[75, 76):  (1)\n",
      "[76, 77):  (0)\n",
      "[77, 78):  (0)\n",
      "[78, 79):  (0)\n",
      "[79, 80):  (0)\n",
      "[80, 81):  (0)\n",
      "[81, 82):  (0)\n",
      "[82, 83):  (0)\n",
      "[83, 84):  (0)\n",
      "[84, 85):  (1)\n",
      "[85, 86):  (0)\n",
      "[86, 87):  (0)\n",
      "[87, 88):  (0)\n",
      "[88, 89):  (0)\n",
      "[89, 90):  (0)\n",
      "[90, 91):  (0)\n",
      "[91, 92):  (0)\n",
      "[92, 93):  (0)\n",
      "[93, 94):  (1)\n"
     ]
    }
   ],
   "source": [
    "print(graph.degree_distribution(mode='in'))\n",
    "#print(graph.degree_distribution(mode='out'))\n",
    "#print(graph.degree_distribution(mode='all'))"
   ]
  },
  {
   "cell_type": "code",
   "execution_count": 41,
   "metadata": {},
   "outputs": [
    {
     "name": "stdout",
     "output_type": "stream",
     "text": [
      "0.0\n"
     ]
    }
   ],
   "source": []
  },
  {
   "cell_type": "code",
   "execution_count": 42,
   "metadata": {},
   "outputs": [
    {
     "data": {
      "text/plain": [
       "0.06420519522953766"
      ]
     },
     "execution_count": 42,
     "metadata": {},
     "output_type": "execute_result"
    }
   ],
   "source": [
    "high_degree_betweeeness = {v for v in graph.vs if v.betweenness() > in_d.sd * 2}\n",
    "len(high_degree_betweeeness)/len(graph.vs)"
   ]
  },
  {
   "cell_type": "code",
   "execution_count": null,
   "metadata": {},
   "outputs": [],
   "source": [
    "high_in_degree = {v for v in graph.vs if v.indegree() > in_d.mean + in_d.sd}\n",
    "len(high_in_degree)"
   ]
  },
  {
   "cell_type": "code",
   "execution_count": 119,
   "metadata": {},
   "outputs": [
    {
     "data": {
      "text/plain": [
       "228"
      ]
     },
     "execution_count": 119,
     "metadata": {},
     "output_type": "execute_result"
    }
   ],
   "source": [
    "high_out_degree = {v for v in graph.vs if v.outdegree() > out_d.mean + out_d.sd}\n",
    "len(high_out_degree)"
   ]
  },
  {
   "cell_type": "code",
   "execution_count": 121,
   "metadata": {},
   "outputs": [
    {
     "data": {
      "text/plain": [
       "91"
      ]
     },
     "execution_count": 121,
     "metadata": {},
     "output_type": "execute_result"
    }
   ],
   "source": [
    "key_actors = high_in_degree.intersection(high_out_degree)\n",
    "len(key_actors)"
   ]
  },
  {
   "cell_type": "code",
   "execution_count": 123,
   "metadata": {},
   "outputs": [
    {
     "data": {
      "text/plain": [
       "5"
      ]
     },
     "execution_count": 123,
     "metadata": {},
     "output_type": "execute_result"
    }
   ],
   "source": [
    "min([v.indegree() for v in key_actors])"
   ]
  },
  {
   "cell_type": "code",
   "execution_count": null,
   "metadata": {},
   "outputs": [],
   "source": []
  },
  {
   "cell_type": "markdown",
   "metadata": {},
   "source": []
  },
  {
   "cell_type": "code",
   "execution_count": 4,
   "metadata": {},
   "outputs": [],
   "source": [
    "in_d_top5 = sorted(graph.vs, key=lambda x: x.indegree(), reverse=True)"
   ]
  },
  {
   "cell_type": "code",
   "execution_count": 11,
   "metadata": {},
   "outputs": [
    {
     "ename": "TypeError",
     "evalue": "slice indices must be integers or None or have an __index__ method",
     "output_type": "error",
     "traceback": [
      "\u001b[1;31m---------------------------------------------------------------------------\u001b[0m",
      "\u001b[1;31mTypeError\u001b[0m                                 Traceback (most recent call last)",
      "Cell \u001b[1;32mIn [11], line 1\u001b[0m\n\u001b[1;32m----> 1\u001b[0m sorted_degree \u001b[39m=\u001b[39m [v\u001b[39m.\u001b[39;49mindegree() \u001b[39mfor\u001b[39;49;00m v \u001b[39min\u001b[39;49;00m in_d_top5][:\u001b[39mlen\u001b[39;49m(sorted_degree)\u001b[39m/\u001b[39;49m\u001b[39m20\u001b[39;49m]\n",
      "\u001b[1;31mTypeError\u001b[0m: slice indices must be integers or None or have an __index__ method"
     ]
    }
   ],
   "source": [
    "sorted_degree = [v.indegree() for v in in_d_top5]"
   ]
  },
  {
   "cell_type": "code",
   "execution_count": 15,
   "metadata": {},
   "outputs": [
    {
     "name": "stdout",
     "output_type": "stream",
     "text": [
      "306\n"
     ]
    }
   ],
   "source": [
    "print(len(sorted_degree[:int(len(sorted_degree)/20)]))"
   ]
  }
 ],
 "metadata": {
  "kernelspec": {
   "display_name": "Python 3",
   "language": "python",
   "name": "python3"
  },
  "language_info": {
   "codemirror_mode": {
    "name": "ipython",
    "version": 3
   },
   "file_extension": ".py",
   "mimetype": "text/x-python",
   "name": "python",
   "nbconvert_exporter": "python",
   "pygments_lexer": "ipython3",
   "version": "3.10.8"
  },
  "orig_nbformat": 4,
  "vscode": {
   "interpreter": {
    "hash": "99a86c7afeb291551c49aa8b725d382ddce6834076e71f3e457f0d861013d88b"
   }
  }
 },
 "nbformat": 4,
 "nbformat_minor": 2
}
